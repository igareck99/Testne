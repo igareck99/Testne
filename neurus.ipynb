{
 "cells": [
  {
   "cell_type": "code",
   "execution_count": 23,
   "metadata": {},
   "outputs": [],
   "source": [
    "from glob import glob\n",
    "import pandas as pd\n",
    "import numpy as np\n",
    "import os\n",
    "from sklearn.utils import shuffle\n",
    "from keras.utils import to_categorical"
   ]
  },
  {
   "cell_type": "code",
   "execution_count": 24,
   "metadata": {},
   "outputs": [],
   "source": [
    "path = glob('/Users/chief.andreev2017yandex.ru/Desktop/cats_dogs_dataset/*.txt')"
   ]
  },
  {
   "cell_type": "code",
   "execution_count": 50,
   "metadata": {},
   "outputs": [],
   "source": [
    "#разделение файлов по папкам\n",
    "for x in path:\n",
    "    with open(x,'r') as f:\n",
    "        arr = np.array(list(map(int,f.readline().split())))\n",
    "        my_path = x.split('/')\n",
    "        if arr[0]==1:\n",
    "            os.replace(x, \"/Users/chief.andreev2017yandex.ru/Desktop/cats/{}\".format(my_path[-1]))\n",
    "            os.replace(x[0:-4]+'.jpg',\"/Users/chief.andreev2017yandex.ru/Desktop/cats/{}\".format(my_path[-1][0:-4]+'.jpg'))\n",
    "        else:\n",
    "            os.replace(x, \"/Users/chief.andreev2017yandex.ru/Desktop/dogs/{}\".format(my_path[-1]))\n",
    "            os.replace(x[0:-4]+'.jpg',\"/Users/chief.andreev2017yandex.ru/Desktop/dogs/{}\".format(my_path[-1][0:-4]+'.jpg'))"
   ]
  },
  {
   "cell_type": "code",
   "execution_count": 25,
   "metadata": {},
   "outputs": [],
   "source": [
    "path = glob('/Users/chief.andreev2017yandex.ru/Desktop/cats/*.txt')\n",
    "aim = []\n",
    "xmin = []\n",
    "xmax = []\n",
    "ymin = []\n",
    "ymax = []\n",
    "columns = ['aim','xmin','ymin','xmax','ymax'] \n",
    "for x in path:\n",
    "    with open(x,'r') as f:\n",
    "        arr = np.array(list(map(int,f.readline().split())))\n",
    "        aim.append(arr[0])\n",
    "        xmin.append(arr[1])\n",
    "        ymin.append(arr[2])\n",
    "        xmax.append(arr[3])\n",
    "        ymax.append(arr[4])\n",
    "d = {'path':x[0:-4]+'.jpg','xmin':xmin,'ymin':ymin,'xmax':xmax,'ymax':ymax,'label':aim}\n",
    "cats = pd.DataFrame(data=d)"
   ]
  },
  {
   "cell_type": "code",
   "execution_count": 26,
   "metadata": {},
   "outputs": [],
   "source": [
    "path = glob('/Users/chief.andreev2017yandex.ru/Desktop/dogs/*.txt')\n",
    "aim = []\n",
    "xmin = []\n",
    "xmax = []\n",
    "ymin = []\n",
    "ymax = []\n",
    "columns = ['aim','xmin','ymin','xmax','ymax'] \n",
    "for x in path:\n",
    "    with open(x,'r') as f:\n",
    "        arr = np.array(list(map(int,f.readline().split())))\n",
    "        aim.append(arr[0])\n",
    "        xmin.append(arr[1])\n",
    "        ymin.append(arr[2])\n",
    "        xmax.append(arr[3])\n",
    "        ymax.append(arr[4])\n",
    "d = {'path':x[0:-4]+'.jpg','xmin':xmin,'ymin':ymin,'xmax':xmax,'ymax':ymax,'label':aim}\n",
    "dogs = pd.DataFrame(data=d)"
   ]
  },
  {
   "cell_type": "code",
   "execution_count": 27,
   "metadata": {},
   "outputs": [],
   "source": [
    "dogs.to_csv('dogs.csv')\n",
    "cats.to_csv('cats.csv')"
   ]
  },
  {
   "cell_type": "markdown",
   "metadata": {},
   "source": [
    "Мы разделили картинки на 2 класса. Созданы 2 DataFrame для последующей проверки(Порядок строк такой же, как порядок файлов)"
   ]
  },
  {
   "cell_type": "code",
   "execution_count": 28,
   "metadata": {},
   "outputs": [],
   "source": [
    "from tensorflow.keras.applications import VGG16\n",
    "from tensorflow.keras.layers import Flatten\n",
    "from tensorflow.keras.layers import Dropout\n",
    "from tensorflow.keras.layers import Dense\n",
    "from tensorflow.keras.layers import Input\n",
    "from tensorflow.keras.models import Model\n",
    "from tensorflow.keras.optimizers import Adam\n",
    "from tensorflow.keras.preprocessing.image import img_to_array\n",
    "from tensorflow.keras.preprocessing.image import load_img\n",
    "from tensorflow.keras.utils import to_categorical\n",
    "from sklearn.preprocessing import LabelBinarizer\n",
    "from sklearn.model_selection import train_test_split\n",
    "import matplotlib.pyplot as plt\n",
    "import numpy as np\n",
    "import pickle\n",
    "import cv2\n",
    "import os"
   ]
  },
  {
   "cell_type": "code",
   "execution_count": 29,
   "metadata": {},
   "outputs": [],
   "source": [
    "data = []\n",
    "labels = []\n",
    "bboxes = []\n",
    "imagePaths = []"
   ]
  },
  {
   "cell_type": "code",
   "execution_count": 30,
   "metadata": {},
   "outputs": [
    {
     "data": {
      "text/html": [
       "<div>\n",
       "<style scoped>\n",
       "    .dataframe tbody tr th:only-of-type {\n",
       "        vertical-align: middle;\n",
       "    }\n",
       "\n",
       "    .dataframe tbody tr th {\n",
       "        vertical-align: top;\n",
       "    }\n",
       "\n",
       "    .dataframe thead th {\n",
       "        text-align: right;\n",
       "    }\n",
       "</style>\n",
       "<table border=\"1\" class=\"dataframe\">\n",
       "  <thead>\n",
       "    <tr style=\"text-align: right;\">\n",
       "      <th></th>\n",
       "      <th>path</th>\n",
       "      <th>xmin</th>\n",
       "      <th>ymin</th>\n",
       "      <th>xmax</th>\n",
       "      <th>ymax</th>\n",
       "      <th>label</th>\n",
       "    </tr>\n",
       "  </thead>\n",
       "  <tbody>\n",
       "    <tr>\n",
       "      <th>0</th>\n",
       "      <td>/Users/chief.andreev2017yandex.ru/Desktop/cats...</td>\n",
       "      <td>39</td>\n",
       "      <td>51</td>\n",
       "      <td>156</td>\n",
       "      <td>179</td>\n",
       "      <td>1</td>\n",
       "    </tr>\n",
       "    <tr>\n",
       "      <th>1</th>\n",
       "      <td>/Users/chief.andreev2017yandex.ru/Desktop/cats...</td>\n",
       "      <td>111</td>\n",
       "      <td>47</td>\n",
       "      <td>240</td>\n",
       "      <td>154</td>\n",
       "      <td>1</td>\n",
       "    </tr>\n",
       "    <tr>\n",
       "      <th>2</th>\n",
       "      <td>/Users/chief.andreev2017yandex.ru/Desktop/cats...</td>\n",
       "      <td>17</td>\n",
       "      <td>25</td>\n",
       "      <td>206</td>\n",
       "      <td>180</td>\n",
       "      <td>1</td>\n",
       "    </tr>\n",
       "    <tr>\n",
       "      <th>3</th>\n",
       "      <td>/Users/chief.andreev2017yandex.ru/Desktop/cats...</td>\n",
       "      <td>215</td>\n",
       "      <td>23</td>\n",
       "      <td>393</td>\n",
       "      <td>176</td>\n",
       "      <td>1</td>\n",
       "    </tr>\n",
       "    <tr>\n",
       "      <th>4</th>\n",
       "      <td>/Users/chief.andreev2017yandex.ru/Desktop/cats...</td>\n",
       "      <td>138</td>\n",
       "      <td>107</td>\n",
       "      <td>259</td>\n",
       "      <td>227</td>\n",
       "      <td>1</td>\n",
       "    </tr>\n",
       "    <tr>\n",
       "      <th>...</th>\n",
       "      <td>...</td>\n",
       "      <td>...</td>\n",
       "      <td>...</td>\n",
       "      <td>...</td>\n",
       "      <td>...</td>\n",
       "      <td>...</td>\n",
       "    </tr>\n",
       "    <tr>\n",
       "      <th>1032</th>\n",
       "      <td>/Users/chief.andreev2017yandex.ru/Desktop/cats...</td>\n",
       "      <td>46</td>\n",
       "      <td>22</td>\n",
       "      <td>166</td>\n",
       "      <td>168</td>\n",
       "      <td>1</td>\n",
       "    </tr>\n",
       "    <tr>\n",
       "      <th>1033</th>\n",
       "      <td>/Users/chief.andreev2017yandex.ru/Desktop/cats...</td>\n",
       "      <td>204</td>\n",
       "      <td>145</td>\n",
       "      <td>286</td>\n",
       "      <td>231</td>\n",
       "      <td>1</td>\n",
       "    </tr>\n",
       "    <tr>\n",
       "      <th>1034</th>\n",
       "      <td>/Users/chief.andreev2017yandex.ru/Desktop/cats...</td>\n",
       "      <td>151</td>\n",
       "      <td>71</td>\n",
       "      <td>335</td>\n",
       "      <td>267</td>\n",
       "      <td>1</td>\n",
       "    </tr>\n",
       "    <tr>\n",
       "      <th>1035</th>\n",
       "      <td>/Users/chief.andreev2017yandex.ru/Desktop/cats...</td>\n",
       "      <td>222</td>\n",
       "      <td>64</td>\n",
       "      <td>351</td>\n",
       "      <td>185</td>\n",
       "      <td>1</td>\n",
       "    </tr>\n",
       "    <tr>\n",
       "      <th>1036</th>\n",
       "      <td>/Users/chief.andreev2017yandex.ru/Desktop/cats...</td>\n",
       "      <td>238</td>\n",
       "      <td>84</td>\n",
       "      <td>302</td>\n",
       "      <td>151</td>\n",
       "      <td>1</td>\n",
       "    </tr>\n",
       "  </tbody>\n",
       "</table>\n",
       "<p>1037 rows × 6 columns</p>\n",
       "</div>"
      ],
      "text/plain": [
       "                                                   path  xmin  ymin  xmax  \\\n",
       "0     /Users/chief.andreev2017yandex.ru/Desktop/cats...    39    51   156   \n",
       "1     /Users/chief.andreev2017yandex.ru/Desktop/cats...   111    47   240   \n",
       "2     /Users/chief.andreev2017yandex.ru/Desktop/cats...    17    25   206   \n",
       "3     /Users/chief.andreev2017yandex.ru/Desktop/cats...   215    23   393   \n",
       "4     /Users/chief.andreev2017yandex.ru/Desktop/cats...   138   107   259   \n",
       "...                                                 ...   ...   ...   ...   \n",
       "1032  /Users/chief.andreev2017yandex.ru/Desktop/cats...    46    22   166   \n",
       "1033  /Users/chief.andreev2017yandex.ru/Desktop/cats...   204   145   286   \n",
       "1034  /Users/chief.andreev2017yandex.ru/Desktop/cats...   151    71   335   \n",
       "1035  /Users/chief.andreev2017yandex.ru/Desktop/cats...   222    64   351   \n",
       "1036  /Users/chief.andreev2017yandex.ru/Desktop/cats...   238    84   302   \n",
       "\n",
       "      ymax  label  \n",
       "0      179      1  \n",
       "1      154      1  \n",
       "2      180      1  \n",
       "3      176      1  \n",
       "4      227      1  \n",
       "...    ...    ...  \n",
       "1032   168      1  \n",
       "1033   231      1  \n",
       "1034   267      1  \n",
       "1035   185      1  \n",
       "1036   151      1  \n",
       "\n",
       "[1037 rows x 6 columns]"
      ]
     },
     "execution_count": 30,
     "metadata": {},
     "output_type": "execute_result"
    }
   ],
   "source": [
    "cats"
   ]
  },
  {
   "cell_type": "code",
   "execution_count": 31,
   "metadata": {},
   "outputs": [
    {
     "data": {
      "text/plain": [
       "'/Users/chief.andreev2017yandex.ru/Desktop/cats/Bengal_184.jpg'"
      ]
     },
     "execution_count": 31,
     "metadata": {},
     "output_type": "execute_result"
    }
   ],
   "source": [
    "cats['path'][0]"
   ]
  },
  {
   "cell_type": "code",
   "execution_count": 32,
   "metadata": {},
   "outputs": [],
   "source": [
    "dogs['path']=glob('/Users/chief.andreev2017yandex.ru/Desktop/dogs/*.jpg')\n",
    "cats['path']=glob('/Users/chief.andreev2017yandex.ru/Desktop/cats/*.jpg')"
   ]
  },
  {
   "cell_type": "code",
   "execution_count": 34,
   "metadata": {},
   "outputs": [
    {
     "data": {
      "text/html": [
       "<div>\n",
       "<style scoped>\n",
       "    .dataframe tbody tr th:only-of-type {\n",
       "        vertical-align: middle;\n",
       "    }\n",
       "\n",
       "    .dataframe tbody tr th {\n",
       "        vertical-align: top;\n",
       "    }\n",
       "\n",
       "    .dataframe thead th {\n",
       "        text-align: right;\n",
       "    }\n",
       "</style>\n",
       "<table border=\"1\" class=\"dataframe\">\n",
       "  <thead>\n",
       "    <tr style=\"text-align: right;\">\n",
       "      <th></th>\n",
       "      <th>path</th>\n",
       "      <th>xmin</th>\n",
       "      <th>ymin</th>\n",
       "      <th>xmax</th>\n",
       "      <th>ymax</th>\n",
       "      <th>label</th>\n",
       "    </tr>\n",
       "  </thead>\n",
       "  <tbody>\n",
       "    <tr>\n",
       "      <th>0</th>\n",
       "      <td>/Users/chief.andreev2017yandex.ru/Desktop/cats...</td>\n",
       "      <td>97</td>\n",
       "      <td>60</td>\n",
       "      <td>280</td>\n",
       "      <td>234</td>\n",
       "      <td>1</td>\n",
       "    </tr>\n",
       "    <tr>\n",
       "      <th>1</th>\n",
       "      <td>/Users/chief.andreev2017yandex.ru/Desktop/cats...</td>\n",
       "      <td>162</td>\n",
       "      <td>9</td>\n",
       "      <td>217</td>\n",
       "      <td>64</td>\n",
       "      <td>1</td>\n",
       "    </tr>\n",
       "    <tr>\n",
       "      <th>2</th>\n",
       "      <td>/Users/chief.andreev2017yandex.ru/Desktop/cats...</td>\n",
       "      <td>152</td>\n",
       "      <td>17</td>\n",
       "      <td>381</td>\n",
       "      <td>262</td>\n",
       "      <td>1</td>\n",
       "    </tr>\n",
       "    <tr>\n",
       "      <th>3</th>\n",
       "      <td>/Users/chief.andreev2017yandex.ru/Desktop/cats...</td>\n",
       "      <td>135</td>\n",
       "      <td>66</td>\n",
       "      <td>268</td>\n",
       "      <td>193</td>\n",
       "      <td>1</td>\n",
       "    </tr>\n",
       "    <tr>\n",
       "      <th>4</th>\n",
       "      <td>/Users/chief.andreev2017yandex.ru/Desktop/cats...</td>\n",
       "      <td>53</td>\n",
       "      <td>16</td>\n",
       "      <td>243</td>\n",
       "      <td>196</td>\n",
       "      <td>1</td>\n",
       "    </tr>\n",
       "    <tr>\n",
       "      <th>...</th>\n",
       "      <td>...</td>\n",
       "      <td>...</td>\n",
       "      <td>...</td>\n",
       "      <td>...</td>\n",
       "      <td>...</td>\n",
       "      <td>...</td>\n",
       "    </tr>\n",
       "    <tr>\n",
       "      <th>1032</th>\n",
       "      <td>/Users/chief.andreev2017yandex.ru/Desktop/cats...</td>\n",
       "      <td>80</td>\n",
       "      <td>47</td>\n",
       "      <td>368</td>\n",
       "      <td>290</td>\n",
       "      <td>1</td>\n",
       "    </tr>\n",
       "    <tr>\n",
       "      <th>1033</th>\n",
       "      <td>/Users/chief.andreev2017yandex.ru/Desktop/cats...</td>\n",
       "      <td>96</td>\n",
       "      <td>35</td>\n",
       "      <td>234</td>\n",
       "      <td>185</td>\n",
       "      <td>1</td>\n",
       "    </tr>\n",
       "    <tr>\n",
       "      <th>1034</th>\n",
       "      <td>/Users/chief.andreev2017yandex.ru/Desktop/cats...</td>\n",
       "      <td>223</td>\n",
       "      <td>1</td>\n",
       "      <td>436</td>\n",
       "      <td>246</td>\n",
       "      <td>1</td>\n",
       "    </tr>\n",
       "    <tr>\n",
       "      <th>1035</th>\n",
       "      <td>/Users/chief.andreev2017yandex.ru/Desktop/cats...</td>\n",
       "      <td>134</td>\n",
       "      <td>58</td>\n",
       "      <td>221</td>\n",
       "      <td>139</td>\n",
       "      <td>1</td>\n",
       "    </tr>\n",
       "    <tr>\n",
       "      <th>1036</th>\n",
       "      <td>/Users/chief.andreev2017yandex.ru/Desktop/cats...</td>\n",
       "      <td>219</td>\n",
       "      <td>1</td>\n",
       "      <td>433</td>\n",
       "      <td>223</td>\n",
       "      <td>1</td>\n",
       "    </tr>\n",
       "  </tbody>\n",
       "</table>\n",
       "<p>1037 rows × 6 columns</p>\n",
       "</div>"
      ],
      "text/plain": [
       "                                                   path  xmin  ymin  xmax  \\\n",
       "0     /Users/chief.andreev2017yandex.ru/Desktop/cats...    97    60   280   \n",
       "1     /Users/chief.andreev2017yandex.ru/Desktop/cats...   162     9   217   \n",
       "2     /Users/chief.andreev2017yandex.ru/Desktop/cats...   152    17   381   \n",
       "3     /Users/chief.andreev2017yandex.ru/Desktop/cats...   135    66   268   \n",
       "4     /Users/chief.andreev2017yandex.ru/Desktop/cats...    53    16   243   \n",
       "...                                                 ...   ...   ...   ...   \n",
       "1032  /Users/chief.andreev2017yandex.ru/Desktop/cats...    80    47   368   \n",
       "1033  /Users/chief.andreev2017yandex.ru/Desktop/cats...    96    35   234   \n",
       "1034  /Users/chief.andreev2017yandex.ru/Desktop/cats...   223     1   436   \n",
       "1035  /Users/chief.andreev2017yandex.ru/Desktop/cats...   134    58   221   \n",
       "1036  /Users/chief.andreev2017yandex.ru/Desktop/cats...   219     1   433   \n",
       "\n",
       "      ymax  label  \n",
       "0      234      1  \n",
       "1       64      1  \n",
       "2      262      1  \n",
       "3      193      1  \n",
       "4      196      1  \n",
       "...    ...    ...  \n",
       "1032   290      1  \n",
       "1033   185      1  \n",
       "1034   246      1  \n",
       "1035   139      1  \n",
       "1036   223      1  \n",
       "\n",
       "[1037 rows x 6 columns]"
      ]
     },
     "execution_count": 34,
     "metadata": {},
     "output_type": "execute_result"
    }
   ],
   "source": [
    "cats = shuffle(cats).reset_index(drop=True)\n",
    "dogs = shuffle(dogs).reset_index(drop=True)\n"
   ]
  },
  {
   "cell_type": "code",
   "execution_count": 35,
   "metadata": {},
   "outputs": [
    {
     "name": "stdout",
     "output_type": "stream",
     "text": [
      "CPU times: user 12.1 s, sys: 1.63 s, total: 13.7 s\n",
      "Wall time: 17.2 s\n"
     ]
    }
   ],
   "source": [
    "%%time\n",
    "data = []\n",
    "labels = []\n",
    "bboxes = []\n",
    "imagePaths = []\n",
    "for index, row in cats.iterrows():\n",
    "    image = cv2.imread(row['path'])\n",
    "    (h, w) = image.shape[:2]\n",
    "    startX = float(row['xmin']) / w\n",
    "    startY = float(row['ymin']) / h\n",
    "    endX = float(row['xmax']) / w\n",
    "    endY = float(row['ymax']) / h\n",
    "    image = load_img(row['path'], target_size=(224, 224))\n",
    "    image = img_to_array(image)\n",
    "    data.append(image)\n",
    "    labels.append(row['label'])\n",
    "    bboxes.append((row['xmin'], row['ymin'], row['xmax'], row['ymax']))\n",
    "    imagePaths.append(row['path'])"
   ]
  },
  {
   "cell_type": "code",
   "execution_count": 36,
   "metadata": {},
   "outputs": [
    {
     "name": "stdout",
     "output_type": "stream",
     "text": [
      "CPU times: user 25.2 s, sys: 3.48 s, total: 28.7 s\n",
      "Wall time: 37.3 s\n"
     ]
    }
   ],
   "source": [
    "%%time\n",
    "for index, row in dogs.iterrows():\n",
    "    image = cv2.imread(row['path'])\n",
    "    (h, w) = image.shape[:2]\n",
    "    startX = float(row['xmin']) / w\n",
    "    startY = float(row['ymin']) / h\n",
    "    endX = float(row['xmax']) / w\n",
    "    endY = float(row['ymax']) / h\n",
    "    image = load_img(row['path'], target_size=(224, 224))\n",
    "    image = img_to_array(image)\n",
    "    data.append(image)\n",
    "    labels.append(row['label'])\n",
    "    bboxes.append((row['xmin'], row['ymin'], row['xmax'], row['ymax']))\n",
    "    imagePaths.append(row['path'])"
   ]
  },
  {
   "cell_type": "code",
   "execution_count": 37,
   "metadata": {},
   "outputs": [],
   "source": [
    "data = np.array(data, dtype=\"float32\") / 255.0\n",
    "labels = np.array(labels)\n",
    "labels = to_categorical(labels)\n",
    "bboxes = np.array(bboxes, dtype=\"float32\")\n",
    "imagePaths = np.array(imagePaths)\n",
    "lb = LabelBinarizer()\n",
    "labels = lb.fit_transform(labels)\n",
    "if len(lb.classes_) == 2:\n",
    "    labels = to_categorical(labels)"
   ]
  },
  {
   "cell_type": "code",
   "execution_count": 39,
   "metadata": {},
   "outputs": [
    {
     "data": {
      "text/plain": [
       "array([[0, 1, 0],\n",
       "       [0, 1, 0],\n",
       "       [0, 1, 0],\n",
       "       ...,\n",
       "       [0, 0, 1],\n",
       "       [0, 0, 1],\n",
       "       [0, 0, 1]])"
      ]
     },
     "execution_count": 39,
     "metadata": {},
     "output_type": "execute_result"
    }
   ],
   "source": [
    "labels"
   ]
  },
  {
   "cell_type": "code",
   "execution_count": 40,
   "metadata": {},
   "outputs": [],
   "source": [
    "split = train_test_split(data, labels, bboxes, imagePaths,test_size=0.20, random_state=42)\n",
    "(trainImages, testImages) = split[:2]\n",
    "(trainLabels, testLabels) = split[2:4]\n",
    "(trainBBoxes, testBBoxes) = split[4:6]\n",
    "(trainPaths, testPaths) = split[6:]"
   ]
  },
  {
   "cell_type": "code",
   "execution_count": 41,
   "metadata": {},
   "outputs": [],
   "source": [
    "vgg = VGG16(weights=\"imagenet\", include_top=False,\n",
    "input_tensor=Input(shape=(224, 224, 3)))\n",
    "vgg.trainable = False\n",
    "flatten = vgg.output\n",
    "flatten = Flatten()(flatten)"
   ]
  },
  {
   "cell_type": "code",
   "execution_count": 42,
   "metadata": {},
   "outputs": [],
   "source": [
    "#Bounding box\n",
    "bboxHead = Dense(128, activation=\"relu\")(flatten)\n",
    "bboxHead = Dense(64, activation=\"relu\")(bboxHead)\n",
    "bboxHead = Dense(32, activation=\"relu\")(bboxHead)\n",
    "bboxHead = Dense(4, activation=\"sigmoid\",\n",
    "name=\"bounding_box\")(bboxHead)\n",
    "# Метка класса\n",
    "softmaxHead = Dense(512, activation=\"relu\")(flatten)\n",
    "softmaxHead = Dropout(0.5)(softmaxHead)\n",
    "softmaxHead = Dense(512, activation=\"relu\")(softmaxHead)\n",
    "softmaxHead = Dropout(0.5)(softmaxHead)\n",
    "softmaxHead = Dense(3, activation=\"softmax\",\n",
    "name=\"class_label\")(softmaxHead)\n",
    "model = Model(inputs=vgg.input,outputs=(bboxHead, softmaxHead))"
   ]
  },
  {
   "cell_type": "code",
   "execution_count": 43,
   "metadata": {},
   "outputs": [
    {
     "name": "stdout",
     "output_type": "stream",
     "text": [
      "Model: \"model_1\"\n",
      "__________________________________________________________________________________________________\n",
      "Layer (type)                    Output Shape         Param #     Connected to                     \n",
      "==================================================================================================\n",
      "input_2 (InputLayer)            [(None, 224, 224, 3) 0                                            \n",
      "__________________________________________________________________________________________________\n",
      "block1_conv1 (Conv2D)           (None, 224, 224, 64) 1792        input_2[0][0]                    \n",
      "__________________________________________________________________________________________________\n",
      "block1_conv2 (Conv2D)           (None, 224, 224, 64) 36928       block1_conv1[0][0]               \n",
      "__________________________________________________________________________________________________\n",
      "block1_pool (MaxPooling2D)      (None, 112, 112, 64) 0           block1_conv2[0][0]               \n",
      "__________________________________________________________________________________________________\n",
      "block2_conv1 (Conv2D)           (None, 112, 112, 128 73856       block1_pool[0][0]                \n",
      "__________________________________________________________________________________________________\n",
      "block2_conv2 (Conv2D)           (None, 112, 112, 128 147584      block2_conv1[0][0]               \n",
      "__________________________________________________________________________________________________\n",
      "block2_pool (MaxPooling2D)      (None, 56, 56, 128)  0           block2_conv2[0][0]               \n",
      "__________________________________________________________________________________________________\n",
      "block3_conv1 (Conv2D)           (None, 56, 56, 256)  295168      block2_pool[0][0]                \n",
      "__________________________________________________________________________________________________\n",
      "block3_conv2 (Conv2D)           (None, 56, 56, 256)  590080      block3_conv1[0][0]               \n",
      "__________________________________________________________________________________________________\n",
      "block3_conv3 (Conv2D)           (None, 56, 56, 256)  590080      block3_conv2[0][0]               \n",
      "__________________________________________________________________________________________________\n",
      "block3_pool (MaxPooling2D)      (None, 28, 28, 256)  0           block3_conv3[0][0]               \n",
      "__________________________________________________________________________________________________\n",
      "block4_conv1 (Conv2D)           (None, 28, 28, 512)  1180160     block3_pool[0][0]                \n",
      "__________________________________________________________________________________________________\n",
      "block4_conv2 (Conv2D)           (None, 28, 28, 512)  2359808     block4_conv1[0][0]               \n",
      "__________________________________________________________________________________________________\n",
      "block4_conv3 (Conv2D)           (None, 28, 28, 512)  2359808     block4_conv2[0][0]               \n",
      "__________________________________________________________________________________________________\n",
      "block4_pool (MaxPooling2D)      (None, 14, 14, 512)  0           block4_conv3[0][0]               \n",
      "__________________________________________________________________________________________________\n",
      "block5_conv1 (Conv2D)           (None, 14, 14, 512)  2359808     block4_pool[0][0]                \n",
      "__________________________________________________________________________________________________\n",
      "block5_conv2 (Conv2D)           (None, 14, 14, 512)  2359808     block5_conv1[0][0]               \n",
      "__________________________________________________________________________________________________\n",
      "block5_conv3 (Conv2D)           (None, 14, 14, 512)  2359808     block5_conv2[0][0]               \n",
      "__________________________________________________________________________________________________\n",
      "block5_pool (MaxPooling2D)      (None, 7, 7, 512)    0           block5_conv3[0][0]               \n",
      "__________________________________________________________________________________________________\n",
      "flatten_1 (Flatten)             (None, 25088)        0           block5_pool[0][0]                \n",
      "__________________________________________________________________________________________________\n",
      "dense_8 (Dense)                 (None, 512)          12845568    flatten_1[0][0]                  \n",
      "__________________________________________________________________________________________________\n",
      "dense_5 (Dense)                 (None, 128)          3211392     flatten_1[0][0]                  \n",
      "__________________________________________________________________________________________________\n",
      "dropout_2 (Dropout)             (None, 512)          0           dense_8[0][0]                    \n",
      "__________________________________________________________________________________________________\n",
      "dense_6 (Dense)                 (None, 64)           8256        dense_5[0][0]                    \n",
      "__________________________________________________________________________________________________\n",
      "dense_9 (Dense)                 (None, 512)          262656      dropout_2[0][0]                  \n",
      "__________________________________________________________________________________________________\n",
      "dense_7 (Dense)                 (None, 32)           2080        dense_6[0][0]                    \n",
      "__________________________________________________________________________________________________\n",
      "dropout_3 (Dropout)             (None, 512)          0           dense_9[0][0]                    \n",
      "__________________________________________________________________________________________________\n",
      "bounding_box (Dense)            (None, 4)            132         dense_7[0][0]                    \n",
      "__________________________________________________________________________________________________\n",
      "class_label (Dense)             (None, 3)            1539        dropout_3[0][0]                  \n",
      "==================================================================================================\n",
      "Total params: 31,046,311\n",
      "Trainable params: 16,331,623\n",
      "Non-trainable params: 14,714,688\n",
      "__________________________________________________________________________________________________\n",
      "None\n"
     ]
    }
   ],
   "source": [
    "INIT_LR = 1e-4\n",
    "NUM_EPOCHS = 11\n",
    "BATCH_SIZE = 32\n",
    "losses = {\"class_label\": \"categorical_crossentropy\",\"bounding_box\": \"mean_squared_error\",}\n",
    "lossWeights = {\"class_label\": 1.0,\"bounding_box\": 1.0}\n",
    "opt = Adam(lr=INIT_LR)\n",
    "model.compile(loss=losses, optimizer=opt, metrics=[\"accuracy\"], loss_weights=lossWeights)\n",
    "print(model.summary())"
   ]
  },
  {
   "cell_type": "code",
   "execution_count": 44,
   "metadata": {},
   "outputs": [],
   "source": [
    "trainTargets = {\"class_label\": trainLabels,\"bounding_box\": trainBBoxes}\n",
    "testTargets = {\"class_label\": testLabels,\"bounding_box\": testBBoxes}"
   ]
  },
  {
   "cell_type": "code",
   "execution_count": 45,
   "metadata": {},
   "outputs": [
    {
     "name": "stdout",
     "output_type": "stream",
     "text": [
      "Train on 2708 samples, validate on 677 samples\n",
      "Epoch 1/11\n",
      "2708/2708 [==============================] - 906s 335ms/sample - loss: 47602.5517 - bounding_box_loss: 47575.9922 - class_label_loss: 0.5308 - bounding_box_acc: 0.8113 - class_label_acc: 0.7640 - val_loss: 44878.9704 - val_bounding_box_loss: 44827.8555 - val_class_label_loss: 0.3194 - val_bounding_box_acc: 0.8168 - val_class_label_acc: 0.8759\n",
      "Epoch 2/11\n",
      "2708/2708 [==============================] - 880s 325ms/sample - loss: 47596.6977 - bounding_box_loss: 47566.4141 - class_label_loss: 0.2934 - bounding_box_acc: 0.7962 - class_label_acc: 0.8807 - val_loss: 44878.9034 - val_bounding_box_loss: 44752.8125 - val_class_label_loss: 0.2729 - val_bounding_box_acc: 0.7903 - val_class_label_acc: 0.8715\n",
      "Epoch 3/11\n",
      "2708/2708 [==============================] - 882s 326ms/sample - loss: 47596.5928 - bounding_box_loss: 47587.3516 - class_label_loss: 0.2159 - bounding_box_acc: 0.7323 - class_label_acc: 0.9099 - val_loss: 44878.8320 - val_bounding_box_loss: 45206.5273 - val_class_label_loss: 0.2204 - val_bounding_box_acc: 0.6425 - val_class_label_acc: 0.8996\n",
      "Epoch 4/11\n",
      "2708/2708 [==============================] - 891s 329ms/sample - loss: 47596.5354 - bounding_box_loss: 47585.7500 - class_label_loss: 0.1757 - bounding_box_acc: 0.5055 - class_label_acc: 0.9265 - val_loss: 44878.8044 - val_bounding_box_loss: 44938.4648 - val_class_label_loss: 0.2003 - val_bounding_box_acc: 0.3634 - val_class_label_acc: 0.9173\n",
      "Epoch 5/11\n",
      "2708/2708 [==============================] - 882s 326ms/sample - loss: 47596.4706 - bounding_box_loss: 47578.4570 - class_label_loss: 0.1190 - bounding_box_acc: 0.2459 - class_label_acc: 0.9531 - val_loss: 44878.7888 - val_bounding_box_loss: 44237.6797 - val_class_label_loss: 0.1919 - val_bounding_box_acc: 0.1773 - val_class_label_acc: 0.9188\n",
      "Epoch 6/11\n",
      "2708/2708 [==============================] - 882s 326ms/sample - loss: 47596.4561 - bounding_box_loss: 47539.0039 - class_label_loss: 0.1054 - bounding_box_acc: 0.0894 - class_label_acc: 0.9561 - val_loss: 44878.8027 - val_bounding_box_loss: 45277.6562 - val_class_label_loss: 0.2068 - val_bounding_box_acc: 0.0384 - val_class_label_acc: 0.9232\n",
      "Epoch 7/11\n",
      "2708/2708 [==============================] - 880s 325ms/sample - loss: 47596.4187 - bounding_box_loss: 47581.0430 - class_label_loss: 0.0687 - bounding_box_acc: 0.0332 - class_label_acc: 0.9760 - val_loss: 44878.7953 - val_bounding_box_loss: 44985.8789 - val_class_label_loss: 0.1973 - val_bounding_box_acc: 0.0236 - val_class_label_acc: 0.9232\n",
      "Epoch 8/11\n",
      "2708/2708 [==============================] - 883s 326ms/sample - loss: 47596.4151 - bounding_box_loss: 47555.2305 - class_label_loss: 0.0643 - bounding_box_acc: 0.0174 - class_label_acc: 0.9771 - val_loss: 44878.8327 - val_bounding_box_loss: 45374.2578 - val_class_label_loss: 0.2331 - val_bounding_box_acc: 0.0162 - val_class_label_acc: 0.9217\n",
      "Epoch 9/11\n",
      "2708/2708 [==============================] - 3325s 1s/sample - loss: 47596.3949 - bounding_box_loss: 47614.3281 - class_label_loss: 0.0442 - bounding_box_acc: 0.0085 - class_label_acc: 0.9841 - val_loss: 44878.8058 - val_bounding_box_loss: 44364.7852 - val_class_label_loss: 0.2103 - val_bounding_box_acc: 0.0148 - val_class_label_acc: 0.9276\n",
      "Epoch 10/11\n",
      "2708/2708 [==============================] - 21654s 8s/sample - loss: 47596.3882 - bounding_box_loss: 47579.4102 - class_label_loss: 0.0380 - bounding_box_acc: 0.0074 - class_label_acc: 0.9856 - val_loss: 44878.8068 - val_bounding_box_loss: 44639.2734 - val_class_label_loss: 0.2929 - val_bounding_box_acc: 0.0103 - val_class_label_acc: 0.9217\n",
      "Epoch 11/11\n",
      "2708/2708 [==============================] - 1451s 536ms/sample - loss: 47596.3815 - bounding_box_loss: 47611.9805 - class_label_loss: 0.0312 - bounding_box_acc: 0.0044 - class_label_acc: 0.9911 - val_loss: 44878.8154 - val_bounding_box_loss: 44839.9805 - val_class_label_loss: 0.2343 - val_bounding_box_acc: 0.0030 - val_class_label_acc: 0.9335\n"
     ]
    }
   ],
   "source": [
    "H = model.fit(trainImages, trainTargets,validation_data=(testImages, testTargets),batch_size=BATCH_SIZE,epochs=NUM_EPOCHS,verbose=1)\n"
   ]
  },
  {
   "cell_type": "code",
   "execution_count": 46,
   "metadata": {},
   "outputs": [
    {
     "name": "stdout",
     "output_type": "stream",
     "text": [
      "Saving object detector model...\n",
      "Saving label binarizer...\n"
     ]
    }
   ],
   "source": [
    "MODEL_PATH = os.path.sep.join(['/Users/chief.andreev2017yandex.ru/Documents/neurus_output/', \"detector.h5\"])\n",
    "LB_PATH = os.path.sep.join(['/Users/chief.andreev2017yandex.ru/Documents/neurus_output/', \"lb.pickle\"])\n",
    "PLOTS_PATH = os.path.sep.join(['/Users/chief.andreev2017yandex.ru/Documents/neurus_output/', \"plots\"])\n",
    "TEST_PATHS = os.path.sep.join(['/Users/chief.andreev2017yandex.ru/Documents/neurus_output/', \"test_paths.txt\"])\n",
    "print(\"Saving object detector model...\")\n",
    "model.save(MODEL_PATH, save_format=\"h5\")\n",
    "print(\"Saving label binarizer...\")\n",
    "f = open(LB_PATH, \"wb\")\n",
    "f.write(pickle.dumps(lb))\n",
    "f.close()"
   ]
  },
  {
   "cell_type": "code",
   "execution_count": null,
   "metadata": {},
   "outputs": [],
   "source": []
  },
  {
   "cell_type": "code",
   "execution_count": null,
   "metadata": {},
   "outputs": [],
   "source": []
  }
 ],
 "metadata": {
  "kernelspec": {
   "display_name": "Python 3",
   "language": "python",
   "name": "python3"
  },
  "language_info": {
   "codemirror_mode": {
    "name": "ipython",
    "version": 3
   },
   "file_extension": ".py",
   "mimetype": "text/x-python",
   "name": "python",
   "nbconvert_exporter": "python",
   "pygments_lexer": "ipython3",
   "version": "3.7.7"
  }
 },
 "nbformat": 4,
 "nbformat_minor": 4
}
